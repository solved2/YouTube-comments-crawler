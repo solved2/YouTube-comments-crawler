{
 "cells": [
  {
   "cell_type": "markdown",
   "metadata": {},
   "source": [
    "# Selenium을 이용하여 유튜브 채널의 특정 댓글 추출하기\n",
    "- 2021.03.14 : 댓글(comment) 크롤링 구현\n",
    "- 2021.03.15 : 답글(reply) 크롤링 구현\n",
    "- 2021.03.16 : 답글 크롤링 디버그 + 댓글/답글 '자세히 보기' 클릭 구현"
   ]
  },
  {
   "cell_type": "markdown",
   "metadata": {},
   "source": [
    "### 필요한 라이브러리 불러오기"
   ]
  },
  {
   "cell_type": "code",
   "execution_count": 1,
   "metadata": {},
   "outputs": [],
   "source": [
    "import time\n",
    "from selenium import webdriver\n",
    "from selenium.webdriver.common.keys import Keys\n",
    "from selenium.webdriver import ActionChains"
   ]
  },
  {
   "cell_type": "markdown",
   "metadata": {},
   "source": [
    "### 설정값"
   ]
  },
  {
   "cell_type": "code",
   "execution_count": 2,
   "metadata": {},
   "outputs": [],
   "source": [
    "# 목표 채널의 '동영상' 카테고리 url\n",
    "channel = \"https://www.youtube.com/channel/UCwkGvF7xKz2E0Lv-fZ9wv2g/videos\"\n",
    "\n",
    "# 콘텐츠 로딩 대기 시간\n",
    "long_waiting = 3.0\n",
    "short_waiting = 1.0"
   ]
  },
  {
   "cell_type": "markdown",
   "metadata": {},
   "source": [
    "### 원하는 유튜브 채널의 '동영상' 카테고리에서 모든 영상 url 크롤링"
   ]
  },
  {
   "cell_type": "code",
   "execution_count": 3,
   "metadata": {
    "scrolled": true
   },
   "outputs": [],
   "source": [
    "driver = webdriver.Chrome('chromedriver.exe')\n",
    "driver.get(channel)\n",
    "href = []\n",
    "# 현재 화면의 높이를 구한다.\n",
    "last_height = driver.execute_script(\"return document.documentElement.scrollHeight\")\n",
    "while True:\n",
    "    # 스크롤을 맨 아래까지 내린다.\n",
    "    driver.execute_script(\"window.scrollTo(0, document.documentElement.scrollHeight);\")\n",
    "\n",
    "    # 콘텐츠 로딩 시간을 기다린다.\n",
    "    time.sleep(short_waiting)\n",
    "\n",
    "    # 현재 높이와 이전 높이값을 비교한다(더 스크롤할 지를 검사)\n",
    "    new_height = driver.execute_script(\"return document.documentElement.scrollHeight\")\n",
    "    if new_height == last_height:\n",
    "        break\n",
    "    last_height = new_height\n",
    "\n",
    "videos = driver.find_elements_by_id('video-title')\n",
    "\n",
    "# 테스트 목적으로 5개의 영상만 크롤링.\n",
    "num = 5\n",
    "for video in videos:\n",
    "    href += [video.get_attribute('href')]\n",
    "    if len(href) >= num:\n",
    "        break"
   ]
  },
  {
   "cell_type": "markdown",
   "metadata": {},
   "source": [
    "### 각 영상에 접근하여 원하는 키워드를 포함한 댓글 크롤링"
   ]
  },
  {
   "cell_type": "code",
   "execution_count": 4,
   "metadata": {},
   "outputs": [
    {
     "name": "stdout",
     "output_type": "stream",
     "text": [
      "<Access the video of 0>\n",
      "Comment block : \n",
      "최창현\n",
      "4개월 전\n",
      "좋은 책 감사합니다 ㅎㅎ 고생 많으셨습니다! 혹시 팡요랩의 향후 계획도 알 수 있을까요?!\n",
      "4\n",
      "답글\n",
      "  └ 제가 개인적인 사정으로 너무 바빠서.. 유튜브 활동을 못하고 있네요 하하..\n",
      "Comment block : \n",
      "박동연\n",
      "3개월 전\n",
      "안녕하세요. 좋은 책 감사합니다. 덕분에 강화학습에 흥미를 느끼며 공부하고 있습니다. 다름이 아니라 책을 보며 이해가 되지 않는 부분이 있어서 질문을 하려 했는데 어디에 질문을 해야할까 고민하다가 유튜브에 질문남기게 되었습니다.\n",
      "\n",
      "책 115페이지 메인함수에 대한 코드에서 코드 중 transition에 대한 for 반복문에 있어서 cum_reward = cum_reward + gamma*reward라는 코드가 나옵니다. \n",
      "\n",
      "그런데 위 코드중 우변의 cum_reward라는 식은 G_(t+1)을 뜻하고 좌변의 cum_reward는 G_t를 뜻하는 것 아닌가요? (방문했던 상태들을 뒤에서부터 보며 차례차례 리턴을 계산하기 때문에 G_또한 시점이 거꾸로 가면서 업데이트(t+1 -> t)되는 것이라고 이해하였습니다.) \n",
      "\n",
      "만약 제가 이해한 바가 맞다면, 이를 G_t= R_t+ γG_(t+1) 에 비추어 보았을 때 \n",
      "\n",
      "cum_reward = cum_reward + gamma*reward 가 아닌\n",
      "\n",
      "cum_reward = gamma*cum_reward + reward 가 되어야 하는 것이 아닌지요?\n",
      "\n",
      "혹시 제가 잘못 이해한 부분이 있다면 바로 잡아주시면 감사하겠습니다!\n",
      "간략히\n",
      "답글\n",
      "  └ 수정되어야 할 부분입니다! 2쇄에서는 수정되어서 출간 될 예정입니다\n",
      "url : https://www.youtube.com/watch?v=Sq-JOue82QA\n",
      "<Access the video of 1>\n",
      "Comment block : \n",
      "Jongwon Kim\n",
      "1년 전\n",
      "발표자료는 공개해 주실수 없나요?\n",
      "답글\n",
      "Comment block : \n",
      "김평\n",
      "2시간 전\n",
      "먼저 좋은 강의 감사드립니다~\n",
      "강의 슬라이드는 혹시 어디서 찾을수 있을까요?\n",
      "답글\n",
      "url : https://www.youtube.com/watch?v=6Thu5vlDc6Y\n",
      "<Access the video of 2>\n",
      "<Access the video of 3>\n",
      "<Access the video of 4>\n"
     ]
    }
   ],
   "source": [
    "i = 0\n",
    "# 채널의 각 영상에 접근한다.\n",
    "for url in href:\n",
    "    driver.get(url)\n",
    "    print(f\"<Access the video of {i}>\")\n",
    "    time.sleep(long_waiting)\n",
    "    \n",
    "    # 댓글창이 화면에 보일 때까지 적당히 스크롤(버퍼링 오작동 방지)\n",
    "    driver.execute_script(\"window.scrollTo(0, 500);\")\n",
    "    time.sleep(long_waiting)\n",
    "    \n",
    "    # 모든 댓글을 크롤링 할 수 있도록 무한 스크롤\n",
    "    last_height = driver.execute_script(\"return document.documentElement.scrollHeight\")\n",
    "    while True:\n",
    "        driver.execute_script(\"window.scrollTo(0, document.documentElement.scrollHeight);\")\n",
    "        time.sleep(long_waiting)\n",
    "        new_height = driver.execute_script(\"return document.documentElement.scrollHeight\")\n",
    "        if new_height == last_height:\n",
    "            break\n",
    "        last_height = new_height\n",
    "    \n",
    "    # 각 영상의 원하는 댓글을 추출한다.\n",
    "    comments_area = driver.find_elements_by_css_selector('#contents > ytd-comment-thread-renderer')\n",
    "    find = False\n",
    "    for comment_area in comments_area:\n",
    "        # 각 댓글이 '자세히 보기' 버튼을 가지고 있으면 클릭.\n",
    "        try:\n",
    "            comment_area.find_element_by_css_selector('#more > span').click()\n",
    "        except:\n",
    "            pass\n",
    "        comment = comment_area.find_element_by_css_selector('#comment').text\n",
    "        \n",
    "        # 목적에 맞는 댓글일 경우\n",
    "        if \"?\" in comment:\n",
    "            find = True\n",
    "            # 댓글 출력\n",
    "            print(f\"Comment block : \\n{comment}\")\n",
    "            actions = ActionChains(driver)\n",
    "            actions.move_to_element(comment_area).perform()\n",
    "            time.sleep(short_waiting)\n",
    "            reply_area = comment_area.find_element_by_css_selector('#replies')\n",
    "            # 답글이 있는 댓글인지를 검사\n",
    "            try:\n",
    "                button = reply_area.find_element_by_css_selector('#button > yt-icon')\n",
    "                # '답글 보기' 버튼을 클릭\n",
    "                button.click()\n",
    "                time.sleep(long_waiting)\n",
    "            except:\n",
    "                pass\n",
    "            # '자세히 보기' 버튼이 있는 답글을 모두 클릭\n",
    "            try:\n",
    "                long_texts = reply_area.find_elements_by_css_selector('#more > span')\n",
    "                for long_text in long_texts:\n",
    "                    long_text.click()\n",
    "                    time.sleep(short_waiting)\n",
    "            except:\n",
    "                pass\n",
    "            # 모든 답글 크롤링\n",
    "            replies = reply_area.find_elements_by_css_selector('#content-text')\n",
    "            for reply in replies:\n",
    "                print(f\"  └ {reply.text}\")\n",
    "    # 댓글을 한 개 이상 찾았을 경우 해당 영상의 url 출력\n",
    "    if find:\n",
    "        print(f\"url : {url}\")\n",
    "    i+=1\n",
    "\n",
    "driver.close()"
   ]
  },
  {
   "cell_type": "code",
   "execution_count": null,
   "metadata": {},
   "outputs": [],
   "source": []
  }
 ],
 "metadata": {
  "kernelspec": {
   "display_name": "Python 3",
   "language": "python",
   "name": "python3"
  },
  "language_info": {
   "codemirror_mode": {
    "name": "ipython",
    "version": 3
   },
   "file_extension": ".py",
   "mimetype": "text/x-python",
   "name": "python",
   "nbconvert_exporter": "python",
   "pygments_lexer": "ipython3",
   "version": "3.7.6"
  }
 },
 "nbformat": 4,
 "nbformat_minor": 4
}
