{
 "cells": [
  {
   "cell_type": "markdown",
   "metadata": {},
   "source": [
    "# Selenium을 이용하여 유튜브 채널의 특정 댓글 추출하기\n",
    "- 2021.03.14 : 댓글(comment) 크롤링 구현\n",
    "- 2021.03.15 : 답글(reply) 크롤링 구현\n",
    "- 2021.03.16 : 답글 크롤링 디버그 + 댓글/답글 '자세히 보기' 클릭 구현"
   ]
  },
  {
   "cell_type": "markdown",
   "metadata": {},
   "source": [
    "### 필요한 라이브러리 불러오기"
   ]
  },
  {
   "cell_type": "code",
   "execution_count": 1,
   "metadata": {},
   "outputs": [],
   "source": [
    "import time\n",
    "from selenium import webdriver\n",
    "from selenium.webdriver.common.keys import Keys\n",
    "from selenium.webdriver import ActionChains"
   ]
  },
  {
   "cell_type": "markdown",
   "metadata": {},
   "source": [
    "### 설정값"
   ]
  },
  {
   "cell_type": "code",
   "execution_count": 2,
   "metadata": {},
   "outputs": [],
   "source": [
    "# 목표 채널의 '동영상' 카테고리 url\n",
    "channel = \"https://www.youtube.com/channel/UCwkGvF7xKz2E0Lv-fZ9wv2g/videos\"\n",
    "\n",
    "# 콘텐츠 로딩 대기 시간\n",
    "long_waiting = 3.0\n",
    "short_waiting = 1.0"
   ]
  },
  {
   "cell_type": "markdown",
   "metadata": {},
   "source": [
    "### 원하는 유튜브 채널의 '동영상' 카테고리에서 모든 영상 url 크롤링"
   ]
  },
  {
   "cell_type": "code",
   "execution_count": 3,
   "metadata": {
    "scrolled": true
   },
   "outputs": [],
   "source": [
    "driver = webdriver.Chrome('chromedriver.exe')\n",
    "driver.get(channel)\n",
    "href = []\n",
    "# 현재 화면의 높이를 구한다.\n",
    "last_height = driver.execute_script(\"return document.documentElement.scrollHeight\")\n",
    "while True:\n",
    "    # 스크롤을 맨 아래까지 내린다.\n",
    "    driver.execute_script(\"window.scrollTo(0, document.documentElement.scrollHeight);\")\n",
    "\n",
    "    # 콘텐츠 로딩 시간을 기다린다.\n",
    "    time.sleep(short_waiting)\n",
    "\n",
    "    # 현재 높이와 이전 높이값을 비교한다(더 스크롤할 지를 검사)\n",
    "    new_height = driver.execute_script(\"return document.documentElement.scrollHeight\")\n",
    "    if new_height == last_height:\n",
    "        break\n",
    "    last_height = new_height\n",
    "\n",
    "videos = driver.find_elements_by_id('video-title')\n",
    "\n",
    "# 테스트 목적으로 5개의 영상만 크롤링.\n",
    "num = 5\n",
    "for video in videos:\n",
    "    href += [video.get_attribute('href')]\n",
    "    if len(href) >= num:\n",
    "        break"
   ]
  },
  {
   "cell_type": "markdown",
   "metadata": {},
   "source": [
    "### 각 영상에 접근하여 원하는 키워드를 포함한 댓글 크롤링"
   ]
  },
  {
   "cell_type": "code",
   "execution_count": null,
   "metadata": {},
   "outputs": [],
   "source": [
    "i = 0\n",
    "# 채널의 각 영상에 접근한다.\n",
    "for url in href:\n",
    "    driver.get(url)\n",
    "    print(f\"<Access the video of {i}>\")\n",
    "    time.sleep(long_waiting)\n",
    "    \n",
    "    # 댓글창이 화면에 보일 때까지 적당히 스크롤(버퍼링 오작동 방지)\n",
    "    driver.execute_script(\"window.scrollTo(0, 500);\")\n",
    "    time.sleep(long_waiting)\n",
    "    \n",
    "    # 모든 댓글을 크롤링 할 수 있도록 무한 스크롤\n",
    "    last_height = driver.execute_script(\"return document.documentElement.scrollHeight\")\n",
    "    while True:\n",
    "        driver.execute_script(\"window.scrollTo(0, document.documentElement.scrollHeight);\")\n",
    "        time.sleep(long_waiting)\n",
    "        new_height = driver.execute_script(\"return document.documentElement.scrollHeight\")\n",
    "        if new_height == last_height:\n",
    "            break\n",
    "        last_height = new_height\n",
    "    \n",
    "    # 각 영상의 원하는 댓글을 추출한다.\n",
    "    comments_area = driver.find_elements_by_css_selector('#contents > ytd-comment-thread-renderer')\n",
    "    find = False\n",
    "    for comment_area in comments_area:\n",
    "        # 각 댓글이 '자세히 보기' 버튼을 가지고 있으면 클릭.\n",
    "        try:\n",
    "            comment_area.find_element_by_css_selector('#more > span').click()\n",
    "        except:\n",
    "            pass\n",
    "        comment = comment_area.find_element_by_css_selector('#comment').text\n",
    "        \n",
    "        # 특정 키워드를 포함하는 댓글을 크롤링(키워드 지정)\n",
    "        if \"?\" in comment:\n",
    "            find = True\n",
    "            # 댓글 출력\n",
    "            print(f\"Comment block : \\n{comment}\")\n",
    "            actions = ActionChains(driver)\n",
    "            actions.move_to_element(comment_area).perform()\n",
    "            time.sleep(short_waiting)\n",
    "            reply_area = comment_area.find_element_by_css_selector('#replies')\n",
    "            # 답글이 있는 댓글인지를 검사\n",
    "            try:\n",
    "                button = reply_area.find_element_by_css_selector('#button > yt-icon')\n",
    "                # '답글 보기' 버튼을 클릭\n",
    "                button.click()\n",
    "                time.sleep(long_waiting)\n",
    "            except:\n",
    "                continue\n",
    "            # '자세히 보기' 버튼이 있는 답글을 모두 클릭\n",
    "            try:\n",
    "                long_texts = reply_area.find_elements_by_css_selector('#more > span')\n",
    "                for long_text in long_texts:\n",
    "                    long_text.click()\n",
    "                    time.sleep(short_waiting)\n",
    "            except:\n",
    "                pass\n",
    "            # 모든 답글 크롤링\n",
    "            replies = reply_area.find_elements_by_css_selector('#content-text')\n",
    "            for reply in replies:\n",
    "                print(f\"  └ {reply.text}\")\n",
    "    # 댓글을 한 개 이상 찾았을 경우 해당 영상의 url 출력\n",
    "    if find:\n",
    "        print(f\"url : {url}\")\n",
    "    i+=1\n",
    "\n",
    "driver.close()"
   ]
  }
 ],
 "metadata": {
  "kernelspec": {
   "display_name": "Python 3",
   "language": "python",
   "name": "python3"
  },
  "language_info": {
   "codemirror_mode": {
    "name": "ipython",
    "version": 3
   },
   "file_extension": ".py",
   "mimetype": "text/x-python",
   "name": "python",
   "nbconvert_exporter": "python",
   "pygments_lexer": "ipython3",
   "version": "3.7.6"
  }
 },
 "nbformat": 4,
 "nbformat_minor": 4
}
